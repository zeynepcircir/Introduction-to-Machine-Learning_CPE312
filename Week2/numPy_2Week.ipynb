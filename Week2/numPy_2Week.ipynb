{
 "cells": [
  {
   "cell_type": "code",
   "execution_count": 1,
   "id": "28436c67-80bc-4f0f-8057-6761dac25a5a",
   "metadata": {},
   "outputs": [],
   "source": [
    "import numpy as np "
   ]
  },
  {
   "cell_type": "code",
   "execution_count": 2,
   "id": "dd4c8486-3fcd-4a23-9f5c-c7e900b44aa5",
   "metadata": {},
   "outputs": [],
   "source": [
    "one_dimensional_array = np.array([1.1,2.2,3.3,4.4])"
   ]
  },
  {
   "cell_type": "code",
   "execution_count": 3,
   "id": "5a39e13a-5d96-4a26-833e-7d062c4d78a9",
   "metadata": {},
   "outputs": [
    {
     "name": "stdout",
     "output_type": "stream",
     "text": [
      "[1.1 2.2 3.3 4.4]\n"
     ]
    }
   ],
   "source": [
    "print(one_dimensional_array)"
   ]
  },
  {
   "cell_type": "code",
   "execution_count": 4,
   "id": "ae329272-bf1a-4b54-98e2-2ed7821dc57a",
   "metadata": {},
   "outputs": [],
   "source": [
    "two_dimensional_array = np.array([[1,2],[3,4],[5,6]])"
   ]
  },
  {
   "cell_type": "code",
   "execution_count": 5,
   "id": "d699832a-f08c-4192-9cb9-5f9bb19b8230",
   "metadata": {},
   "outputs": [
    {
     "name": "stdout",
     "output_type": "stream",
     "text": [
      "[[1 2]\n",
      " [3 4]\n",
      " [5 6]]\n"
     ]
    }
   ],
   "source": [
    "print(two_dimensional_array)"
   ]
  },
  {
   "cell_type": "code",
   "execution_count": 6,
   "id": "44470f27-b0e7-4447-8d33-a4dc71685b0f",
   "metadata": {},
   "outputs": [],
   "source": [
    "sequences_of_integers = np.arange(2,6)"
   ]
  },
  {
   "cell_type": "code",
   "execution_count": 7,
   "id": "4bab95e5-b363-4356-b78b-d9bd5275e063",
   "metadata": {},
   "outputs": [
    {
     "name": "stdout",
     "output_type": "stream",
     "text": [
      "[2 3 4 5]\n"
     ]
    }
   ],
   "source": [
    "print(sequences_of_integers)"
   ]
  },
  {
   "cell_type": "code",
   "execution_count": 8,
   "id": "d41f81f1-6d34-4f98-aea3-b2831c3520ca",
   "metadata": {},
   "outputs": [],
   "source": [
    "random_integers_between_20_and_60 = np.random.randint(low=20, high=61, size=(10))"
   ]
  },
  {
   "cell_type": "code",
   "execution_count": 9,
   "id": "23824510-f966-4110-9c42-63608cb949ac",
   "metadata": {},
   "outputs": [
    {
     "name": "stdout",
     "output_type": "stream",
     "text": [
      "[40 42 35 22 21 36 41 47 29 46]\n"
     ]
    }
   ],
   "source": [
    "print(random_integers_between_20_and_60)"
   ]
  },
  {
   "cell_type": "code",
   "execution_count": 10,
   "id": "8c3c78ab-4722-46d6-a811-4e2fbe1c92d8",
   "metadata": {},
   "outputs": [],
   "source": [
    "random_floats_between_0_and_1 = np.random.random([7])"
   ]
  },
  {
   "cell_type": "code",
   "execution_count": 11,
   "id": "342a3bd8-42f8-4432-bb01-1f15cf215dcc",
   "metadata": {},
   "outputs": [
    {
     "name": "stdout",
     "output_type": "stream",
     "text": [
      "[0.62591053 0.38263296 0.50423252 0.27169279 0.00311777 0.91029938\n",
      " 0.32217599]\n"
     ]
    }
   ],
   "source": [
    "print(random_floats_between_0_and_1)"
   ]
  },
  {
   "cell_type": "code",
   "execution_count": 12,
   "id": "b44e3d56-9f79-44a8-8dd3-d110992ba310",
   "metadata": {},
   "outputs": [],
   "source": [
    "random_floats_between_2_and_3 = random_floats_between_0_and_1 + 2.0"
   ]
  },
  {
   "cell_type": "code",
   "execution_count": 13,
   "id": "19e8c92a-5599-4d1e-81c6-56204bf3aa53",
   "metadata": {},
   "outputs": [
    {
     "name": "stdout",
     "output_type": "stream",
     "text": [
      "[2.62591053 2.38263296 2.50423252 2.27169279 2.00311777 2.91029938\n",
      " 2.32217599]\n"
     ]
    }
   ],
   "source": [
    "print(random_floats_between_2_and_3)"
   ]
  },
  {
   "cell_type": "code",
   "execution_count": 14,
   "id": "c9f6ef0a-336a-43e8-a22e-461212e7cfba",
   "metadata": {},
   "outputs": [],
   "source": [
    "random_integers_between_60_and_180 = random_integers_between_20_and_60 * 3"
   ]
  },
  {
   "cell_type": "code",
   "execution_count": 15,
   "id": "b3b50d77-0dd7-44a2-9a6a-9a5b7acdf9d9",
   "metadata": {},
   "outputs": [
    {
     "name": "stdout",
     "output_type": "stream",
     "text": [
      "[120 126 105  66  63 108 123 141  87 138]\n"
     ]
    }
   ],
   "source": [
    "print(random_integers_between_60_and_180)"
   ]
  },
  {
   "cell_type": "code",
   "execution_count": 16,
   "id": "be28eca7-ec94-4bc7-a040-5dbb62190fd1",
   "metadata": {},
   "outputs": [],
   "source": [
    "#TASK 1-CREATE A LINEAR DATASET"
   ]
  },
  {
   "cell_type": "code",
   "execution_count": 17,
   "id": "939bc6a8-6898-401a-a21f-7b812a3980dc",
   "metadata": {},
   "outputs": [],
   "source": [
    "feature = np.arange(6,21)"
   ]
  },
  {
   "cell_type": "raw",
   "id": "371066a4-a3c7-49b3-9ee4-ee7605cd7666",
   "metadata": {},
   "source": [
    "print(feature)"
   ]
  },
  {
   "cell_type": "code",
   "execution_count": 18,
   "id": "982fce3d-222b-4b66-9014-c0d48fa0731f",
   "metadata": {},
   "outputs": [],
   "source": [
    " label = (3 * feature) + 4"
   ]
  },
  {
   "cell_type": "code",
   "execution_count": 19,
   "id": "12128bb8-11d2-4f9d-be4a-5b9d2b94b04a",
   "metadata": {},
   "outputs": [
    {
     "name": "stdout",
     "output_type": "stream",
     "text": [
      "[22 25 28 31 34 37 40 43 46 49 52 55 58 61 64]\n"
     ]
    }
   ],
   "source": [
    "print(label)"
   ]
  },
  {
   "cell_type": "code",
   "execution_count": 20,
   "id": "b758ae10-c956-4d93-88ce-6d4514e9f4d8",
   "metadata": {},
   "outputs": [],
   "source": [
    "#TASK 2-ADD SOME NOISE to the DATASET"
   ]
  },
  {
   "cell_type": "code",
   "execution_count": 21,
   "id": "ddcc1315-eb4d-4cc4-88f4-c973f2ddcc17",
   "metadata": {},
   "outputs": [
    {
     "name": "stdout",
     "output_type": "stream",
     "text": [
      "[-0.66326433 -0.52657516 -1.2365928  -1.07126106  0.21867083  0.70467595\n",
      " -0.76175633  0.9022773  -0.44831309  1.36171977  0.87535021 -1.17818394\n",
      " -0.45535504 -1.48480195  1.36150388]\n",
      "[21.33673567 24.47342484 26.7634072  29.92873894 34.21867083 37.70467595\n",
      " 39.23824367 43.9022773  45.55168691 50.36171977 52.87535021 53.82181606\n",
      " 57.54464496 59.51519805 65.36150388]\n"
     ]
    }
   ],
   "source": [
    "noise = (np.random.random([15]) * 4) - 2\n",
    "print(noise)\n",
    "label = label + noise \n",
    "print(label)"
   ]
  },
  {
   "cell_type": "code",
   "execution_count": null,
   "id": "f94d44e7-8166-45a6-baab-0d714254e345",
   "metadata": {},
   "outputs": [],
   "source": []
  }
 ],
 "metadata": {
  "kernelspec": {
   "display_name": "Python 3 (ipykernel)",
   "language": "python",
   "name": "python3"
  },
  "language_info": {
   "codemirror_mode": {
    "name": "ipython",
    "version": 3
   },
   "file_extension": ".py",
   "mimetype": "text/x-python",
   "name": "python",
   "nbconvert_exporter": "python",
   "pygments_lexer": "ipython3",
   "version": "3.11.4"
  }
 },
 "nbformat": 4,
 "nbformat_minor": 5
}
