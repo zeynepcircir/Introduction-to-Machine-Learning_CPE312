{
 "cells": [
  {
   "cell_type": "code",
   "execution_count": 1,
   "id": "4c838643-f0aa-4288-b3ea-43a2e7d2d717",
   "metadata": {},
   "outputs": [],
   "source": [
    "#HDBSCAN: hierarchical density-based clustering"
   ]
  },
  {
   "cell_type": "code",
   "execution_count": 2,
   "id": "06ba12b6-dcf8-406e-b2a2-f0bfeedeb2fb",
   "metadata": {},
   "outputs": [
    {
     "name": "stdout",
     "output_type": "stream",
     "text": [
      "number of digits: 10\n",
      "number of clusters found: 10\n",
      "0.9751818034688537\n"
     ]
    }
   ],
   "source": [
    "import numpy as np\n",
    "from sklearn.cluster import HDBSCAN\n",
    "from sklearn.datasets import load_digits\n",
    "from sklearn.metrics import v_measure_score\n",
    "\n",
    "X, true_labels = load_digits(return_X_y=True)\n",
    "print(f\"number of digits: {len(np.unique(true_labels))}\")\n",
    "\n",
    "hdbscan = HDBSCAN(min_cluster_size=15).fit(X)\n",
    "non_noisy_labels = hdbscan.labels_[hdbscan.labels_ != -1]\n",
    "print(f\"number of clusters found: {len(np.unique(non_noisy_labels))}\")\n",
    "\n",
    "print(v_measure_score(true_labels[hdbscan.labels_ != -1], non_noisy_labels))"
   ]
  },
  {
   "cell_type": "code",
   "execution_count": 3,
   "id": "5092d851-5f4c-4a54-bc08-a2a13332a0ce",
   "metadata": {},
   "outputs": [],
   "source": [
    "#TargetEncoder: a new category encoding strategy"
   ]
  },
  {
   "cell_type": "code",
   "execution_count": 4,
   "id": "32c8096b-2c61-4243-8a57-9bdbf31504c7",
   "metadata": {},
   "outputs": [
    {
     "data": {
      "text/plain": [
       "[array([90.3, 20.4, 21.2])]"
      ]
     },
     "execution_count": 4,
     "metadata": {},
     "output_type": "execute_result"
    }
   ],
   "source": [
    "import numpy as np\n",
    "from sklearn.preprocessing import TargetEncoder\n",
    "\n",
    "X = np.array([[\"cat\"] * 30 + [\"dog\"] * 20 + [\"snake\"] * 38], dtype=object).T\n",
    "y = [90.3] * 30 + [20.4] * 20 + [21.2] * 38\n",
    "\n",
    "enc = TargetEncoder(random_state=0)\n",
    "X_trans = enc.fit_transform(X, y)\n",
    "\n",
    "enc.encodings_"
   ]
  },
  {
   "cell_type": "code",
   "execution_count": 5,
   "id": "108ae679-b3f7-4c9e-8575-4977835fceb8",
   "metadata": {},
   "outputs": [],
   "source": [
    "#Missing values support in decision trees"
   ]
  },
  {
   "cell_type": "code",
   "execution_count": 6,
   "id": "ee710a37-3080-4ad6-9de2-62d46d5a0e00",
   "metadata": {},
   "outputs": [
    {
     "data": {
      "text/plain": [
       "array([0, 0, 1, 1])"
      ]
     },
     "execution_count": 6,
     "metadata": {},
     "output_type": "execute_result"
    }
   ],
   "source": [
    "import numpy as np\n",
    "from sklearn.tree import DecisionTreeClassifier\n",
    "\n",
    "X = np.array([0, 1, 6, np.nan]).reshape(-1, 1)\n",
    "y = [0, 0, 1, 1]\n",
    "\n",
    "tree = DecisionTreeClassifier(random_state=0).fit(X, y)\n",
    "tree.predict(X)"
   ]
  },
  {
   "cell_type": "code",
   "execution_count": 7,
   "id": "4840aec1-7830-4208-bce8-2054c6b65cda",
   "metadata": {},
   "outputs": [],
   "source": [
    "#New display model_selection.ValidationCurveDisplay"
   ]
  },
  {
   "cell_type": "code",
   "execution_count": 8,
   "id": "ccfe1a84-3bfe-4c21-bacf-b5cde97f7ad3",
   "metadata": {},
   "outputs": [
    {
     "data": {
      "image/png": "[encoded data removed]",
      "text/plain": [
       "<Figure size 640x480 with 1 Axes>"
      ]
     },
     "metadata": {},
     "output_type": "display_data"
    }
   ],
   "source": [
    "from sklearn.datasets import make_classification\n",
    "from sklearn.linear_model import LogisticRegression\n",
    "from sklearn.model_selection import ValidationCurveDisplay\n",
    "\n",
    "X, y = make_classification(1000, 10, random_state=0)\n",
    "\n",
    "_ = ValidationCurveDisplay.from_estimator(\n",
    "    LogisticRegression(),\n",
    "    X,\n",
    "    y,\n",
    "    param_name=\"C\",\n",
    "    param_range=np.geomspace(1e-5, 1e3, num=9),\n",
    "    score_type=\"both\",\n",
    "    score_name=\"Accuracy\",\n",
    ")"
   ]
  },
  {
   "cell_type": "code",
   "execution_count": 9,
   "id": "9b87bb82-8412-4318-a2f5-c647af3e4988",
   "metadata": {},
   "outputs": [],
   "source": [
    "#Gamma loss for gradient boosting"
   ]
  },
  {
   "cell_type": "code",
   "execution_count": 11,
   "id": "cb3a122d-d896-46c1-896b-10dfe9b3c6ad",
   "metadata": {},
   "outputs": [
    {
     "data": {
      "text/plain": [
       "0.46858513287221665"
      ]
     },
     "execution_count": 11,
     "metadata": {},
     "output_type": "execute_result"
    }
   ],
   "source": [
    "import numpy as np\n",
    "from sklearn.model_selection import cross_val_score\n",
    "from sklearn.datasets import make_low_rank_matrix\n",
    "from sklearn.ensemble import HistGradientBoostingRegressor\n",
    "\n",
    "n_samples, n_features = 500, 10\n",
    "rng = np.random.RandomState(0)\n",
    "X = make_low_rank_matrix(n_samples, n_features, random_state=rng)\n",
    "coef = rng.uniform(low=-10, high=20, size=n_features)\n",
    "y = rng.gamma(shape=2, scale=np.exp(X @ coef) / 2)\n",
    "gbdt = HistGradientBoostingRegressor(loss=\"gamma\")\n",
    "cross_val_score(gbdt, X, y).mean()"
   ]
  },
  {
   "cell_type": "code",
   "execution_count": null,
   "id": "3eac43a5-48aa-442a-bf11-31172c226cad",
   "metadata": {},
   "outputs": [],
   "source": [
    "#Grouping infrequent categories in preprocessing.OrdinalEncoder"
   ]
  },
  {
   "cell_type": "code",
   "execution_count": 12,
   "id": "df7c0dac-eb9b-4b59-a343-99a5d6cae5de",
   "metadata": {},
   "outputs": [
    {
     "data": {
      "text/plain": [
       "[array(['dog', 'snake'], dtype=object)]"
      ]
     },
     "execution_count": 12,
     "metadata": {},
     "output_type": "execute_result"
    }
   ],
   "source": [
    "from sklearn.preprocessing import OrdinalEncoder\n",
    "import numpy as np\n",
    "\n",
    "X = np.array(\n",
    "    [[\"dog\"] * 5 + [\"cat\"] * 20 + [\"rabbit\"] * 10 + [\"snake\"] * 3], dtype=object\n",
    ").T\n",
    "enc = OrdinalEncoder(min_frequency=6).fit(X)\n",
    "enc.infrequent_categories_"
   ]
  },
  {
   "cell_type": "code",
   "execution_count": null,
   "id": "bbb689fc-23b6-4acc-90f1-9ea6810f35cc",
   "metadata": {},
   "outputs": [],
   "source": []
  },
  {
   "cell_type": "code",
   "execution_count": null,
   "id": "ba49ac64-6127-4f8c-8290-d27d631dcfb7",
   "metadata": {},
   "outputs": [],
   "source": []
  }
 ],
 "metadata": {
  "kernelspec": {
   "display_name": "Python 3 (ipykernel)",
   "language": "python",
   "name": "python3"
  },
  "language_info": {
   "codemirror_mode": {
    "name": "ipython",
    "version": 3
   },
   "file_extension": ".py",
   "mimetype": "text/x-python",
   "name": "python",
   "nbconvert_exporter": "python",
   "pygments_lexer": "ipython3",
   "version": "3.11.4"
  }
 },
 "nbformat": 4,
 "nbformat_minor": 5
}
